{
 "cells": [
  {
   "cell_type": "markdown",
   "id": "9a22a6ed",
   "metadata": {},
   "source": [
    "# Top 50 Spotify Tracks of 2020"
   ]
  },
  {
   "cell_type": "markdown",
   "id": "a6e7c61e",
   "metadata": {},
   "source": [
    "## Simplified Data Processing and Analysis"
   ]
  },
  {
   "cell_type": "markdown",
   "id": "e477b826",
   "metadata": {},
   "source": [
    "Data of Top 50 most streamed tracks on Spotify in 2020 from [Kaggle](https://www.kaggle.com/atillacolak/top-50-spotify-tracks-2020) is used"
   ]
  },
  {
   "cell_type": "markdown",
   "id": "d34d067f",
   "metadata": {},
   "source": [
    "### Import"
   ]
  },
  {
   "cell_type": "code",
   "execution_count": 1,
   "id": "3fecb73b",
   "metadata": {},
   "outputs": [],
   "source": [
    "import pandas as pd\n",
    "import numpy as np\n",
    "import matplotlib.pyplot as plt\n",
    "import seaborn as sns"
   ]
  },
  {
   "cell_type": "markdown",
   "id": "684b7d39",
   "metadata": {},
   "source": [
    "### Dataset"
   ]
  },
  {
   "cell_type": "markdown",
   "id": "3db32b6d",
   "metadata": {},
   "source": [
    "Dataset consist of **Top 50** most streamed tracks on Spotifty in 2020. Each row corresponds to a single track with variables in columns."
   ]
  },
  {
   "cell_type": "code",
   "execution_count": 2,
   "id": "34f778c4",
   "metadata": {
    "scrolled": false
   },
   "outputs": [
    {
     "data": {
      "text/html": [
       "<div>\n",
       "<style scoped>\n",
       "    .dataframe tbody tr th:only-of-type {\n",
       "        vertical-align: middle;\n",
       "    }\n",
       "\n",
       "    .dataframe tbody tr th {\n",
       "        vertical-align: top;\n",
       "    }\n",
       "\n",
       "    .dataframe thead th {\n",
       "        text-align: right;\n",
       "    }\n",
       "</style>\n",
       "<table border=\"1\" class=\"dataframe\">\n",
       "  <thead>\n",
       "    <tr style=\"text-align: right;\">\n",
       "      <th></th>\n",
       "      <th>artist</th>\n",
       "      <th>album</th>\n",
       "      <th>track_name</th>\n",
       "      <th>track_id</th>\n",
       "      <th>energy</th>\n",
       "      <th>danceability</th>\n",
       "      <th>key</th>\n",
       "      <th>loudness</th>\n",
       "      <th>acousticness</th>\n",
       "      <th>speechiness</th>\n",
       "      <th>instrumentalness</th>\n",
       "      <th>liveness</th>\n",
       "      <th>valence</th>\n",
       "      <th>tempo</th>\n",
       "      <th>duration_ms</th>\n",
       "      <th>genre</th>\n",
       "    </tr>\n",
       "  </thead>\n",
       "  <tbody>\n",
       "    <tr>\n",
       "      <th>0</th>\n",
       "      <td>The Weeknd</td>\n",
       "      <td>After Hours</td>\n",
       "      <td>Blinding Lights</td>\n",
       "      <td>0VjIjW4GlUZAMYd2vXMi3b</td>\n",
       "      <td>0.730</td>\n",
       "      <td>0.514</td>\n",
       "      <td>1</td>\n",
       "      <td>-5.934</td>\n",
       "      <td>0.00146</td>\n",
       "      <td>0.0598</td>\n",
       "      <td>0.000095</td>\n",
       "      <td>0.0897</td>\n",
       "      <td>0.334</td>\n",
       "      <td>171.005</td>\n",
       "      <td>200040</td>\n",
       "      <td>R&amp;B/Soul</td>\n",
       "    </tr>\n",
       "    <tr>\n",
       "      <th>1</th>\n",
       "      <td>Tones And I</td>\n",
       "      <td>Dance Monkey</td>\n",
       "      <td>Dance Monkey</td>\n",
       "      <td>1rgnBhdG2JDFTbYkYRZAku</td>\n",
       "      <td>0.593</td>\n",
       "      <td>0.825</td>\n",
       "      <td>6</td>\n",
       "      <td>-6.401</td>\n",
       "      <td>0.68800</td>\n",
       "      <td>0.0988</td>\n",
       "      <td>0.000161</td>\n",
       "      <td>0.1700</td>\n",
       "      <td>0.540</td>\n",
       "      <td>98.078</td>\n",
       "      <td>209755</td>\n",
       "      <td>Alternative/Indie</td>\n",
       "    </tr>\n",
       "    <tr>\n",
       "      <th>2</th>\n",
       "      <td>Roddy Ricch</td>\n",
       "      <td>Please Excuse Me For Being Antisocial</td>\n",
       "      <td>The Box</td>\n",
       "      <td>0nbXyq5TXYPCO7pr3N8S4I</td>\n",
       "      <td>0.586</td>\n",
       "      <td>0.896</td>\n",
       "      <td>10</td>\n",
       "      <td>-6.687</td>\n",
       "      <td>0.10400</td>\n",
       "      <td>0.0559</td>\n",
       "      <td>0.000000</td>\n",
       "      <td>0.7900</td>\n",
       "      <td>0.642</td>\n",
       "      <td>116.971</td>\n",
       "      <td>196653</td>\n",
       "      <td>Hip-Hop/Rap</td>\n",
       "    </tr>\n",
       "    <tr>\n",
       "      <th>3</th>\n",
       "      <td>SAINt JHN</td>\n",
       "      <td>Roses (Imanbek Remix)</td>\n",
       "      <td>Roses - Imanbek Remix</td>\n",
       "      <td>2Wo6QQD1KMDWeFkkjLqwx5</td>\n",
       "      <td>0.721</td>\n",
       "      <td>0.785</td>\n",
       "      <td>8</td>\n",
       "      <td>-5.457</td>\n",
       "      <td>0.01490</td>\n",
       "      <td>0.0506</td>\n",
       "      <td>0.004320</td>\n",
       "      <td>0.2850</td>\n",
       "      <td>0.894</td>\n",
       "      <td>121.962</td>\n",
       "      <td>176219</td>\n",
       "      <td>Dance/Electronic</td>\n",
       "    </tr>\n",
       "    <tr>\n",
       "      <th>4</th>\n",
       "      <td>Dua Lipa</td>\n",
       "      <td>Future Nostalgia</td>\n",
       "      <td>Don't Start Now</td>\n",
       "      <td>3PfIrDoz19wz7qK7tYeu62</td>\n",
       "      <td>0.793</td>\n",
       "      <td>0.793</td>\n",
       "      <td>11</td>\n",
       "      <td>-4.521</td>\n",
       "      <td>0.01230</td>\n",
       "      <td>0.0830</td>\n",
       "      <td>0.000000</td>\n",
       "      <td>0.0951</td>\n",
       "      <td>0.679</td>\n",
       "      <td>123.950</td>\n",
       "      <td>183290</td>\n",
       "      <td>Nu-disco</td>\n",
       "    </tr>\n",
       "  </tbody>\n",
       "</table>\n",
       "</div>"
      ],
      "text/plain": [
       "        artist                                  album             track_name  \\\n",
       "0   The Weeknd                            After Hours        Blinding Lights   \n",
       "1  Tones And I                           Dance Monkey           Dance Monkey   \n",
       "2  Roddy Ricch  Please Excuse Me For Being Antisocial                The Box   \n",
       "3    SAINt JHN                  Roses (Imanbek Remix)  Roses - Imanbek Remix   \n",
       "4     Dua Lipa                       Future Nostalgia        Don't Start Now   \n",
       "\n",
       "                 track_id  energy  danceability  key  loudness  acousticness  \\\n",
       "0  0VjIjW4GlUZAMYd2vXMi3b   0.730         0.514    1    -5.934       0.00146   \n",
       "1  1rgnBhdG2JDFTbYkYRZAku   0.593         0.825    6    -6.401       0.68800   \n",
       "2  0nbXyq5TXYPCO7pr3N8S4I   0.586         0.896   10    -6.687       0.10400   \n",
       "3  2Wo6QQD1KMDWeFkkjLqwx5   0.721         0.785    8    -5.457       0.01490   \n",
       "4  3PfIrDoz19wz7qK7tYeu62   0.793         0.793   11    -4.521       0.01230   \n",
       "\n",
       "   speechiness  instrumentalness  liveness  valence    tempo  duration_ms  \\\n",
       "0       0.0598          0.000095    0.0897    0.334  171.005       200040   \n",
       "1       0.0988          0.000161    0.1700    0.540   98.078       209755   \n",
       "2       0.0559          0.000000    0.7900    0.642  116.971       196653   \n",
       "3       0.0506          0.004320    0.2850    0.894  121.962       176219   \n",
       "4       0.0830          0.000000    0.0951    0.679  123.950       183290   \n",
       "\n",
       "               genre  \n",
       "0           R&B/Soul  \n",
       "1  Alternative/Indie  \n",
       "2        Hip-Hop/Rap  \n",
       "3   Dance/Electronic  \n",
       "4           Nu-disco  "
      ]
     },
     "execution_count": 2,
     "metadata": {},
     "output_type": "execute_result"
    }
   ],
   "source": [
    "df = pd.read_csv('spotifytoptracks.csv', encoding='utf-8', index_col=0)\n",
    "df.head()"
   ]
  },
  {
   "cell_type": "markdown",
   "id": "5eca05d4",
   "metadata": {},
   "source": [
    "List of variables with description used in this dataset:\n",
    "\n",
    "* `artist` Name of the artist\n",
    "* `album` Name of the album that the song is on\n",
    "* `track_name` Name of the song\n",
    "* `energy` Higher value means that the songs is more energetic\n",
    "* `danceability` Higher value means that it is easier to dance to the song\n",
    "* `key` The primary identifier of songs [0-11]\n",
    "* `loudness` Higher value means that the song is louder\n",
    "* `acousticness` This value describes how acoustic a song is\n",
    "* `speechiness` Speechiness detects the presence of spoken words in a track\n",
    "* `instrumentalness` Describes whether a track contains no vocals. If the instrumentalness is closer to '1', the song is more likely to have no vocals\n",
    "* `liveness` Describes the likelihood that the song was recorded with a live audience\n",
    "* `valence` Describes the positiveness of a song. Higher valence means that the song sounds more positive\n",
    "* `tempo` beats per minute (BPM)\n",
    "* `duration_ms` The length of the song in milliseconds\n",
    "* `genre` Genre of the song\n"
   ]
  },
  {
   "cell_type": "markdown",
   "id": "234e367a",
   "metadata": {},
   "source": [
    "Let us do some checks and tests on the data to see if any data cleaning is needed"
   ]
  },
  {
   "cell_type": "code",
   "execution_count": 3,
   "id": "0a786ce8",
   "metadata": {
    "scrolled": true
   },
   "outputs": [
    {
     "name": "stdout",
     "output_type": "stream",
     "text": [
      "<class 'pandas.core.frame.DataFrame'>\n",
      "Int64Index: 50 entries, 0 to 49\n",
      "Data columns (total 16 columns):\n",
      " #   Column            Non-Null Count  Dtype  \n",
      "---  ------            --------------  -----  \n",
      " 0   artist            50 non-null     object \n",
      " 1   album             50 non-null     object \n",
      " 2   track_name        50 non-null     object \n",
      " 3   track_id          50 non-null     object \n",
      " 4   energy            50 non-null     float64\n",
      " 5   danceability      50 non-null     float64\n",
      " 6   key               50 non-null     int64  \n",
      " 7   loudness          50 non-null     float64\n",
      " 8   acousticness      50 non-null     float64\n",
      " 9   speechiness       50 non-null     float64\n",
      " 10  instrumentalness  50 non-null     float64\n",
      " 11  liveness          50 non-null     float64\n",
      " 12  valence           50 non-null     float64\n",
      " 13  tempo             50 non-null     float64\n",
      " 14  duration_ms       50 non-null     int64  \n",
      " 15  genre             50 non-null     object \n",
      "dtypes: float64(9), int64(2), object(5)\n",
      "memory usage: 6.6+ KB\n"
     ]
    }
   ],
   "source": [
    "df.info()"
   ]
  },
  {
   "cell_type": "markdown",
   "id": "aee69ef2",
   "metadata": {},
   "source": [
    "There is no `None` values throughout the dataset. `df.dropna(inplace=True)` command could be run to delete rows with `None` data, neverthless we should check what exactly is missing before deleting.<br />"
   ]
  },
  {
   "cell_type": "markdown",
   "id": "33e39366",
   "metadata": {},
   "source": [
    "The data range in columns of `['energy', 'danceability', 'acousticness', 'speechiness', 'instrumentalness', 'liveness', 'valence']` should be within range `[0.0 – 1.0]`. Let us check if that is the case in our dataset."
   ]
  },
  {
   "cell_type": "code",
   "execution_count": 4,
   "id": "4653ed43",
   "metadata": {
    "scrolled": true
   },
   "outputs": [
    {
     "name": "stdout",
     "output_type": "stream",
     "text": [
      "Values of \"energy\" column is within range [0.225 – 0.855]\n",
      "Values of \"danceability\" column is within range [0.351 – 0.935]\n",
      "Values of \"acousticness\" column is within range [0.00146 – 0.934]\n",
      "Values of \"speechiness\" column is within range [0.029 – 0.487]\n",
      "Values of \"instrumentalness\" column is within range [0.0 – 0.657]\n",
      "Values of \"liveness\" column is within range [0.0574 – 0.792]\n",
      "Values of \"valence\" column is within range [0.0605 – 0.925]\n"
     ]
    }
   ],
   "source": [
    "fixed_range_columns = ['energy', 'danceability', 'acousticness', 'speechiness', \n",
    "                       'instrumentalness', 'liveness', 'valence']\n",
    "\n",
    "for feature in fixed_range_columns:\n",
    "    if df[feature].min() >= 0 and df[feature].max() <= 1:\n",
    "        print(f'Values of \"{feature}\" column is within range [{df[feature].min()} – {df[feature].max()}]')\n",
    "    else:\n",
    "        print(f'Values of \"{feature}\" column is out of range [{df[feature].min()} – {df[feature].max()}]')"
   ]
  },
  {
   "cell_type": "markdown",
   "id": "4cf92c93",
   "metadata": {},
   "source": [
    "Values in columns `['tempo', 'duration_ms']` must be `> 0` . Let's check if this is the case"
   ]
  },
  {
   "cell_type": "code",
   "execution_count": 5,
   "id": "2e10b336",
   "metadata": {
    "scrolled": true
   },
   "outputs": [
    {
     "name": "stdout",
     "output_type": "stream",
     "text": [
      "All values of feature \"tempo\" are positive\n",
      "All values of feature \"duration_ms\" are positive\n"
     ]
    }
   ],
   "source": [
    "positive_value_columns = ['tempo', 'duration_ms']\n",
    "\n",
    "for feature in positive_value_columns:\n",
    "    if all(df[feature]) > 0:\n",
    "        print(f'All values of feature \"{feature}\" are positive')\n",
    "    else:\n",
    "        print(f'A feature \"{feature}\" has a negative value of {value}')"
   ]
  },
  {
   "cell_type": "markdown",
   "id": "83ed8d6b",
   "metadata": {},
   "source": [
    "Feature `key` is the key the track is in. Integers map to pitches using standard [Pitch Class](https://en.wikipedia.org/wiki/Pitch_class) notation. E.g. 0 = C, 1 = C♯/D♭, 2 = D, and so on. If no key was detected, the value is -1. Checking if value is within `range(-1, 12)`"
   ]
  },
  {
   "cell_type": "code",
   "execution_count": 6,
   "id": "7b740df8",
   "metadata": {},
   "outputs": [
    {
     "data": {
      "text/plain": [
       "[0, 1, 2, 3, 4, 5, 6, 7, 8, 9, 10, 11]"
      ]
     },
     "execution_count": 6,
     "metadata": {},
     "output_type": "execute_result"
    }
   ],
   "source": [
    "sorted(df['key'].unique().tolist())"
   ]
  },
  {
   "cell_type": "markdown",
   "id": "ca445652",
   "metadata": {},
   "source": [
    "Checking whether there are duplicates in our dataframe:"
   ]
  },
  {
   "cell_type": "code",
   "execution_count": 7,
   "id": "41cb4e5a",
   "metadata": {},
   "outputs": [
    {
     "data": {
      "text/plain": [
       "False"
      ]
     },
     "execution_count": 7,
     "metadata": {},
     "output_type": "execute_result"
    }
   ],
   "source": [
    "df.duplicated().any()"
   ]
  },
  {
   "cell_type": "markdown",
   "id": "a3721560",
   "metadata": {},
   "source": [
    "There is no duplicates! On the other hand we could run `df.drop_duplicates(inplace=True)` to remove duplicated rows."
   ]
  },
  {
   "cell_type": "markdown",
   "id": "b16ffcc3",
   "metadata": {},
   "source": [
    "Pandas documentation says that Categoricals are a pandas data type corresponding to categorical variables in statistics. A categorical variable takes on a limited, and usually fixed, number of possible values. Since feature `track_id` is by no means a `categorical` feature, thus I would like to distinct the data type `object` from `category` and change `dtype` of categorical columns to `category`."
   ]
  },
  {
   "cell_type": "code",
   "execution_count": 8,
   "id": "1a567dd9",
   "metadata": {},
   "outputs": [],
   "source": [
    "categorical = ['artist', 'album', 'track_name', 'key', 'genre']\n",
    "for item in categorical:\n",
    "    df[item] = df[item].astype('category')"
   ]
  },
  {
   "cell_type": "markdown",
   "id": "546df338",
   "metadata": {},
   "source": [
    "With the above finished we are ready to go forward to **Data Processing and Analysis**"
   ]
  },
  {
   "cell_type": "markdown",
   "id": "eb86efcc",
   "metadata": {},
   "source": [
    "### Simplified Data Processing and Analysis"
   ]
  },
  {
   "cell_type": "markdown",
   "id": "4e5ae514",
   "metadata": {},
   "source": [
    "How many **observations** are there in this dataset?"
   ]
  },
  {
   "cell_type": "code",
   "execution_count": 9,
   "id": "e7dca4a4",
   "metadata": {},
   "outputs": [
    {
     "data": {
      "text/plain": [
       "50"
      ]
     },
     "execution_count": 9,
     "metadata": {},
     "output_type": "execute_result"
    }
   ],
   "source": [
    "len(df.index)"
   ]
  },
  {
   "cell_type": "markdown",
   "id": "c9306d65",
   "metadata": {},
   "source": [
    "How many **features** this dataset has?"
   ]
  },
  {
   "cell_type": "code",
   "execution_count": 10,
   "id": "9617eb56",
   "metadata": {},
   "outputs": [
    {
     "data": {
      "text/plain": [
       "16"
      ]
     },
     "execution_count": 10,
     "metadata": {},
     "output_type": "execute_result"
    }
   ],
   "source": [
    "len(df.columns)"
   ]
  },
  {
   "cell_type": "markdown",
   "id": "866fa514",
   "metadata": {},
   "source": [
    "Which of the features are **Categorical**?"
   ]
  },
  {
   "cell_type": "code",
   "execution_count": 11,
   "id": "32c90d2e",
   "metadata": {
    "scrolled": true
   },
   "outputs": [
    {
     "data": {
      "text/plain": [
       "Index(['artist', 'album', 'track_name', 'key', 'genre'], dtype='object')"
      ]
     },
     "execution_count": 11,
     "metadata": {},
     "output_type": "execute_result"
    }
   ],
   "source": [
    "df.select_dtypes(['category']).columns"
   ]
  },
  {
   "cell_type": "markdown",
   "id": "3aee3d6c",
   "metadata": {},
   "source": [
    "Which of the features are **Numerical**?"
   ]
  },
  {
   "cell_type": "code",
   "execution_count": 12,
   "id": "20318c36",
   "metadata": {},
   "outputs": [
    {
     "data": {
      "text/plain": [
       "Index(['energy', 'danceability', 'loudness', 'acousticness', 'speechiness',\n",
       "       'instrumentalness', 'liveness', 'valence', 'tempo', 'duration_ms'],\n",
       "      dtype='object')"
      ]
     },
     "execution_count": 12,
     "metadata": {},
     "output_type": "execute_result"
    }
   ],
   "source": [
    "df.select_dtypes(['float', 'int']).columns"
   ]
  },
  {
   "cell_type": "markdown",
   "id": "f08f8f1b",
   "metadata": {},
   "source": [
    "Are there any **artists that have more than 1 popular track**? If yes, which and how many?"
   ]
  },
  {
   "cell_type": "code",
   "execution_count": 13,
   "id": "0e8d329e",
   "metadata": {},
   "outputs": [
    {
     "data": {
      "text/html": [
       "<div>\n",
       "<style scoped>\n",
       "    .dataframe tbody tr th:only-of-type {\n",
       "        vertical-align: middle;\n",
       "    }\n",
       "\n",
       "    .dataframe tbody tr th {\n",
       "        vertical-align: top;\n",
       "    }\n",
       "\n",
       "    .dataframe thead th {\n",
       "        text-align: right;\n",
       "    }\n",
       "</style>\n",
       "<table border=\"1\" class=\"dataframe\">\n",
       "  <thead>\n",
       "    <tr style=\"text-align: right;\">\n",
       "      <th></th>\n",
       "      <th>No. of tracks in TOP50</th>\n",
       "    </tr>\n",
       "  </thead>\n",
       "  <tbody>\n",
       "    <tr>\n",
       "      <th>Travis Scott</th>\n",
       "      <td>3</td>\n",
       "    </tr>\n",
       "    <tr>\n",
       "      <th>Billie Eilish</th>\n",
       "      <td>3</td>\n",
       "    </tr>\n",
       "    <tr>\n",
       "      <th>Dua Lipa</th>\n",
       "      <td>3</td>\n",
       "    </tr>\n",
       "    <tr>\n",
       "      <th>Justin Bieber</th>\n",
       "      <td>2</td>\n",
       "    </tr>\n",
       "    <tr>\n",
       "      <th>Post Malone</th>\n",
       "      <td>2</td>\n",
       "    </tr>\n",
       "    <tr>\n",
       "      <th>Harry Styles</th>\n",
       "      <td>2</td>\n",
       "    </tr>\n",
       "    <tr>\n",
       "      <th>Lewis Capaldi</th>\n",
       "      <td>2</td>\n",
       "    </tr>\n",
       "  </tbody>\n",
       "</table>\n",
       "</div>"
      ],
      "text/plain": [
       "               No. of tracks in TOP50\n",
       "Travis Scott                        3\n",
       "Billie Eilish                       3\n",
       "Dua Lipa                            3\n",
       "Justin Bieber                       2\n",
       "Post Malone                         2\n",
       "Harry Styles                        2\n",
       "Lewis Capaldi                       2"
      ]
     },
     "execution_count": 13,
     "metadata": {},
     "output_type": "execute_result"
    }
   ],
   "source": [
    "popular_artists = pd.DataFrame({'No. of tracks in TOP50': df.artist.value_counts()})\n",
    "popular_artists[popular_artists > 1].dropna().astype('int')"
   ]
  },
  {
   "cell_type": "markdown",
   "id": "43b27b36",
   "metadata": {},
   "source": [
    "Who was the **most popular artist**?"
   ]
  },
  {
   "cell_type": "code",
   "execution_count": 14,
   "id": "bed14c71",
   "metadata": {},
   "outputs": [
    {
     "data": {
      "text/html": [
       "<div>\n",
       "<style scoped>\n",
       "    .dataframe tbody tr th:only-of-type {\n",
       "        vertical-align: middle;\n",
       "    }\n",
       "\n",
       "    .dataframe tbody tr th {\n",
       "        vertical-align: top;\n",
       "    }\n",
       "\n",
       "    .dataframe thead th {\n",
       "        text-align: right;\n",
       "    }\n",
       "</style>\n",
       "<table border=\"1\" class=\"dataframe\">\n",
       "  <thead>\n",
       "    <tr style=\"text-align: right;\">\n",
       "      <th></th>\n",
       "      <th>Occurrence in TOP50</th>\n",
       "    </tr>\n",
       "  </thead>\n",
       "  <tbody>\n",
       "    <tr>\n",
       "      <th>Travis Scott</th>\n",
       "      <td>3</td>\n",
       "    </tr>\n",
       "    <tr>\n",
       "      <th>Billie Eilish</th>\n",
       "      <td>3</td>\n",
       "    </tr>\n",
       "    <tr>\n",
       "      <th>Dua Lipa</th>\n",
       "      <td>3</td>\n",
       "    </tr>\n",
       "  </tbody>\n",
       "</table>\n",
       "</div>"
      ],
      "text/plain": [
       "               Occurrence in TOP50\n",
       "Travis Scott                     3\n",
       "Billie Eilish                    3\n",
       "Dua Lipa                         3"
      ]
     },
     "execution_count": 14,
     "metadata": {},
     "output_type": "execute_result"
    }
   ],
   "source": [
    "most_pop_artists = pd.DataFrame({'Occurrence in TOP50': df.artist.value_counts()})\n",
    "most_pop_artists[most_pop_artists['Occurrence in TOP50'] == most_pop_artists['Occurrence in TOP50'].max()]"
   ]
  },
  {
   "cell_type": "markdown",
   "id": "dec9faf8",
   "metadata": {},
   "source": [
    "How many **artists in total** have their songs **in** the **top 50**?"
   ]
  },
  {
   "cell_type": "code",
   "execution_count": 15,
   "id": "db2c92ad",
   "metadata": {},
   "outputs": [
    {
     "data": {
      "text/plain": [
       "40"
      ]
     },
     "execution_count": 15,
     "metadata": {},
     "output_type": "execute_result"
    }
   ],
   "source": [
    "df.artist.nunique()"
   ]
  },
  {
   "cell_type": "markdown",
   "id": "f619e5a6",
   "metadata": {},
   "source": [
    "Are there any **albums that have more than 1 popular track**? If yes, which and how many?"
   ]
  },
  {
   "cell_type": "code",
   "execution_count": 16,
   "id": "19bbbd74",
   "metadata": {},
   "outputs": [
    {
     "data": {
      "text/html": [
       "<div>\n",
       "<style scoped>\n",
       "    .dataframe tbody tr th:only-of-type {\n",
       "        vertical-align: middle;\n",
       "    }\n",
       "\n",
       "    .dataframe tbody tr th {\n",
       "        vertical-align: top;\n",
       "    }\n",
       "\n",
       "    .dataframe thead th {\n",
       "        text-align: right;\n",
       "    }\n",
       "</style>\n",
       "<table border=\"1\" class=\"dataframe\">\n",
       "  <thead>\n",
       "    <tr style=\"text-align: right;\">\n",
       "      <th></th>\n",
       "      <th>No. tracks/album in TOP50</th>\n",
       "    </tr>\n",
       "  </thead>\n",
       "  <tbody>\n",
       "    <tr>\n",
       "      <th>Future Nostalgia</th>\n",
       "      <td>3</td>\n",
       "    </tr>\n",
       "    <tr>\n",
       "      <th>Fine Line</th>\n",
       "      <td>2</td>\n",
       "    </tr>\n",
       "    <tr>\n",
       "      <th>Hollywood's Bleeding</th>\n",
       "      <td>2</td>\n",
       "    </tr>\n",
       "    <tr>\n",
       "      <th>Changes</th>\n",
       "      <td>2</td>\n",
       "    </tr>\n",
       "  </tbody>\n",
       "</table>\n",
       "</div>"
      ],
      "text/plain": [
       "                      No. tracks/album in TOP50\n",
       "Future Nostalgia                              3\n",
       "Fine Line                                     2\n",
       "Hollywood's Bleeding                          2\n",
       "Changes                                       2"
      ]
     },
     "execution_count": 16,
     "metadata": {},
     "output_type": "execute_result"
    }
   ],
   "source": [
    "popular_albums = pd.DataFrame({'No. tracks/album in TOP50': df.album.value_counts()})\n",
    "popular_albums[popular_albums > 1].dropna().astype('int')"
   ]
  },
  {
   "cell_type": "markdown",
   "id": "1dcc2a3d",
   "metadata": {},
   "source": [
    "How many **albums in total** have their songs **in** the **top 50**?"
   ]
  },
  {
   "cell_type": "code",
   "execution_count": 17,
   "id": "e41e46dd",
   "metadata": {},
   "outputs": [
    {
     "data": {
      "text/plain": [
       "45"
      ]
     },
     "execution_count": 17,
     "metadata": {},
     "output_type": "execute_result"
    }
   ],
   "source": [
    "len(df.album.unique())"
   ]
  },
  {
   "cell_type": "markdown",
   "id": "26040028",
   "metadata": {},
   "source": [
    "Which **tracks** have a **danceability score above 0.7**?"
   ]
  },
  {
   "cell_type": "code",
   "execution_count": 18,
   "id": "db9c3f0f",
   "metadata": {},
   "outputs": [
    {
     "data": {
      "text/html": [
       "<div>\n",
       "<style scoped>\n",
       "    .dataframe tbody tr th:only-of-type {\n",
       "        vertical-align: middle;\n",
       "    }\n",
       "\n",
       "    .dataframe tbody tr th {\n",
       "        vertical-align: top;\n",
       "    }\n",
       "\n",
       "    .dataframe thead th {\n",
       "        text-align: right;\n",
       "    }\n",
       "</style>\n",
       "<table border=\"1\" class=\"dataframe\">\n",
       "  <thead>\n",
       "    <tr style=\"text-align: right;\">\n",
       "      <th></th>\n",
       "      <th>Danceability &gt; 0.7</th>\n",
       "    </tr>\n",
       "  </thead>\n",
       "  <tbody>\n",
       "    <tr>\n",
       "      <th>1</th>\n",
       "      <td>Dance Monkey</td>\n",
       "    </tr>\n",
       "    <tr>\n",
       "      <th>2</th>\n",
       "      <td>The Box</td>\n",
       "    </tr>\n",
       "    <tr>\n",
       "      <th>3</th>\n",
       "      <td>Roses - Imanbek Remix</td>\n",
       "    </tr>\n",
       "    <tr>\n",
       "      <th>4</th>\n",
       "      <td>Don't Start Now</td>\n",
       "    </tr>\n",
       "    <tr>\n",
       "      <th>5</th>\n",
       "      <td>ROCKSTAR (feat. Roddy Ricch)</td>\n",
       "    </tr>\n",
       "    <tr>\n",
       "      <th>7</th>\n",
       "      <td>death bed (coffee for your head)</td>\n",
       "    </tr>\n",
       "    <tr>\n",
       "      <th>8</th>\n",
       "      <td>Falling</td>\n",
       "    </tr>\n",
       "    <tr>\n",
       "      <th>10</th>\n",
       "      <td>Tusa</td>\n",
       "    </tr>\n",
       "    <tr>\n",
       "      <th>13</th>\n",
       "      <td>Blueberry Faygo</td>\n",
       "    </tr>\n",
       "    <tr>\n",
       "      <th>14</th>\n",
       "      <td>Intentions (feat. Quavo)</td>\n",
       "    </tr>\n",
       "    <tr>\n",
       "      <th>15</th>\n",
       "      <td>Toosie Slide</td>\n",
       "    </tr>\n",
       "    <tr>\n",
       "      <th>17</th>\n",
       "      <td>Say So</td>\n",
       "    </tr>\n",
       "    <tr>\n",
       "      <th>18</th>\n",
       "      <td>Memories</td>\n",
       "    </tr>\n",
       "    <tr>\n",
       "      <th>19</th>\n",
       "      <td>Life Is Good (feat. Drake)</td>\n",
       "    </tr>\n",
       "    <tr>\n",
       "      <th>20</th>\n",
       "      <td>Savage Love (Laxed - Siren Beat)</td>\n",
       "    </tr>\n",
       "    <tr>\n",
       "      <th>22</th>\n",
       "      <td>Breaking Me</td>\n",
       "    </tr>\n",
       "    <tr>\n",
       "      <th>24</th>\n",
       "      <td>everything i wanted</td>\n",
       "    </tr>\n",
       "    <tr>\n",
       "      <th>25</th>\n",
       "      <td>Señorita</td>\n",
       "    </tr>\n",
       "    <tr>\n",
       "      <th>26</th>\n",
       "      <td>bad guy</td>\n",
       "    </tr>\n",
       "    <tr>\n",
       "      <th>27</th>\n",
       "      <td>WAP (feat. Megan Thee Stallion)</td>\n",
       "    </tr>\n",
       "    <tr>\n",
       "      <th>28</th>\n",
       "      <td>Sunday Best</td>\n",
       "    </tr>\n",
       "    <tr>\n",
       "      <th>29</th>\n",
       "      <td>Godzilla (feat. Juice WRLD)</td>\n",
       "    </tr>\n",
       "    <tr>\n",
       "      <th>31</th>\n",
       "      <td>Break My Heart</td>\n",
       "    </tr>\n",
       "    <tr>\n",
       "      <th>32</th>\n",
       "      <td>Dynamite</td>\n",
       "    </tr>\n",
       "    <tr>\n",
       "      <th>33</th>\n",
       "      <td>Supalonely (feat. Gus Dapperton)</td>\n",
       "    </tr>\n",
       "    <tr>\n",
       "      <th>37</th>\n",
       "      <td>Sunflower - Spider-Man: Into the Spider-Verse</td>\n",
       "    </tr>\n",
       "    <tr>\n",
       "      <th>38</th>\n",
       "      <td>Hawái</td>\n",
       "    </tr>\n",
       "    <tr>\n",
       "      <th>39</th>\n",
       "      <td>Ride It</td>\n",
       "    </tr>\n",
       "    <tr>\n",
       "      <th>40</th>\n",
       "      <td>goosebumps</td>\n",
       "    </tr>\n",
       "    <tr>\n",
       "      <th>41</th>\n",
       "      <td>RITMO (Bad Boys For Life)</td>\n",
       "    </tr>\n",
       "    <tr>\n",
       "      <th>42</th>\n",
       "      <td>THE SCOTTS</td>\n",
       "    </tr>\n",
       "    <tr>\n",
       "      <th>49</th>\n",
       "      <td>SICKO MODE</td>\n",
       "    </tr>\n",
       "  </tbody>\n",
       "</table>\n",
       "</div>"
      ],
      "text/plain": [
       "                               Danceability > 0.7\n",
       "1                                    Dance Monkey\n",
       "2                                         The Box\n",
       "3                           Roses - Imanbek Remix\n",
       "4                                 Don't Start Now\n",
       "5                    ROCKSTAR (feat. Roddy Ricch)\n",
       "7                death bed (coffee for your head)\n",
       "8                                         Falling\n",
       "10                                           Tusa\n",
       "13                                Blueberry Faygo\n",
       "14                       Intentions (feat. Quavo)\n",
       "15                                   Toosie Slide\n",
       "17                                         Say So\n",
       "18                                       Memories\n",
       "19                     Life Is Good (feat. Drake)\n",
       "20               Savage Love (Laxed - Siren Beat)\n",
       "22                                    Breaking Me\n",
       "24                            everything i wanted\n",
       "25                                       Señorita\n",
       "26                                        bad guy\n",
       "27                WAP (feat. Megan Thee Stallion)\n",
       "28                                    Sunday Best\n",
       "29                    Godzilla (feat. Juice WRLD)\n",
       "31                                 Break My Heart\n",
       "32                                       Dynamite\n",
       "33               Supalonely (feat. Gus Dapperton)\n",
       "37  Sunflower - Spider-Man: Into the Spider-Verse\n",
       "38                                          Hawái\n",
       "39                                        Ride It\n",
       "40                                     goosebumps\n",
       "41                      RITMO (Bad Boys For Life)\n",
       "42                                     THE SCOTTS\n",
       "49                                     SICKO MODE"
      ]
     },
     "execution_count": 18,
     "metadata": {},
     "output_type": "execute_result"
    }
   ],
   "source": [
    "danceability_filter_high = df.danceability > 0.7\n",
    "\n",
    "pd.DataFrame({'Danceability > 0.7': df.track_name[danceability_filter_high]})"
   ]
  },
  {
   "cell_type": "markdown",
   "id": "97db6ac4",
   "metadata": {},
   "source": [
    "Which **tracks** have a **danceability score below 0.4**?"
   ]
  },
  {
   "cell_type": "code",
   "execution_count": 19,
   "id": "a8937e74",
   "metadata": {},
   "outputs": [
    {
     "data": {
      "text/html": [
       "<div>\n",
       "<style scoped>\n",
       "    .dataframe tbody tr th:only-of-type {\n",
       "        vertical-align: middle;\n",
       "    }\n",
       "\n",
       "    .dataframe tbody tr th {\n",
       "        vertical-align: top;\n",
       "    }\n",
       "\n",
       "    .dataframe thead th {\n",
       "        text-align: right;\n",
       "    }\n",
       "</style>\n",
       "<table border=\"1\" class=\"dataframe\">\n",
       "  <thead>\n",
       "    <tr style=\"text-align: right;\">\n",
       "      <th></th>\n",
       "      <th>Danceability &lt; 0.4</th>\n",
       "    </tr>\n",
       "  </thead>\n",
       "  <tbody>\n",
       "    <tr>\n",
       "      <th>44</th>\n",
       "      <td>lovely (with Khalid)</td>\n",
       "    </tr>\n",
       "  </tbody>\n",
       "</table>\n",
       "</div>"
      ],
      "text/plain": [
       "      Danceability < 0.4\n",
       "44  lovely (with Khalid)"
      ]
     },
     "execution_count": 19,
     "metadata": {},
     "output_type": "execute_result"
    }
   ],
   "source": [
    "danceability_filter_low = df.danceability < 0.4\n",
    "\n",
    "pd.DataFrame({'Danceability < 0.4': df.track_name[danceability_filter_low]})"
   ]
  },
  {
   "cell_type": "markdown",
   "id": "6cfa2e9d",
   "metadata": {},
   "source": [
    "Which **tracks** have their **loudness above -5**?"
   ]
  },
  {
   "cell_type": "code",
   "execution_count": 20,
   "id": "cfaec25e",
   "metadata": {},
   "outputs": [
    {
     "data": {
      "text/html": [
       "<div>\n",
       "<style scoped>\n",
       "    .dataframe tbody tr th:only-of-type {\n",
       "        vertical-align: middle;\n",
       "    }\n",
       "\n",
       "    .dataframe tbody tr th {\n",
       "        vertical-align: top;\n",
       "    }\n",
       "\n",
       "    .dataframe thead th {\n",
       "        text-align: right;\n",
       "    }\n",
       "</style>\n",
       "<table border=\"1\" class=\"dataframe\">\n",
       "  <thead>\n",
       "    <tr style=\"text-align: right;\">\n",
       "      <th></th>\n",
       "      <th>Loudness &gt; -5</th>\n",
       "    </tr>\n",
       "  </thead>\n",
       "  <tbody>\n",
       "    <tr>\n",
       "      <th>4</th>\n",
       "      <td>Don't Start Now</td>\n",
       "    </tr>\n",
       "    <tr>\n",
       "      <th>6</th>\n",
       "      <td>Watermelon Sugar</td>\n",
       "    </tr>\n",
       "    <tr>\n",
       "      <th>10</th>\n",
       "      <td>Tusa</td>\n",
       "    </tr>\n",
       "    <tr>\n",
       "      <th>12</th>\n",
       "      <td>Circles</td>\n",
       "    </tr>\n",
       "    <tr>\n",
       "      <th>16</th>\n",
       "      <td>Before You Go</td>\n",
       "    </tr>\n",
       "    <tr>\n",
       "      <th>17</th>\n",
       "      <td>Say So</td>\n",
       "    </tr>\n",
       "    <tr>\n",
       "      <th>21</th>\n",
       "      <td>Adore You</td>\n",
       "    </tr>\n",
       "    <tr>\n",
       "      <th>23</th>\n",
       "      <td>Mood (feat. iann dior)</td>\n",
       "    </tr>\n",
       "    <tr>\n",
       "      <th>31</th>\n",
       "      <td>Break My Heart</td>\n",
       "    </tr>\n",
       "    <tr>\n",
       "      <th>32</th>\n",
       "      <td>Dynamite</td>\n",
       "    </tr>\n",
       "    <tr>\n",
       "      <th>33</th>\n",
       "      <td>Supalonely (feat. Gus Dapperton)</td>\n",
       "    </tr>\n",
       "    <tr>\n",
       "      <th>35</th>\n",
       "      <td>Rain On Me (with Ariana Grande)</td>\n",
       "    </tr>\n",
       "    <tr>\n",
       "      <th>37</th>\n",
       "      <td>Sunflower - Spider-Man: Into the Spider-Verse</td>\n",
       "    </tr>\n",
       "    <tr>\n",
       "      <th>38</th>\n",
       "      <td>Hawái</td>\n",
       "    </tr>\n",
       "    <tr>\n",
       "      <th>39</th>\n",
       "      <td>Ride It</td>\n",
       "    </tr>\n",
       "    <tr>\n",
       "      <th>40</th>\n",
       "      <td>goosebumps</td>\n",
       "    </tr>\n",
       "    <tr>\n",
       "      <th>43</th>\n",
       "      <td>Safaera</td>\n",
       "    </tr>\n",
       "    <tr>\n",
       "      <th>48</th>\n",
       "      <td>Physical</td>\n",
       "    </tr>\n",
       "    <tr>\n",
       "      <th>49</th>\n",
       "      <td>SICKO MODE</td>\n",
       "    </tr>\n",
       "  </tbody>\n",
       "</table>\n",
       "</div>"
      ],
      "text/plain": [
       "                                    Loudness > -5\n",
       "4                                 Don't Start Now\n",
       "6                                Watermelon Sugar\n",
       "10                                           Tusa\n",
       "12                                        Circles\n",
       "16                                  Before You Go\n",
       "17                                         Say So\n",
       "21                                      Adore You\n",
       "23                         Mood (feat. iann dior)\n",
       "31                                 Break My Heart\n",
       "32                                       Dynamite\n",
       "33               Supalonely (feat. Gus Dapperton)\n",
       "35                Rain On Me (with Ariana Grande)\n",
       "37  Sunflower - Spider-Man: Into the Spider-Verse\n",
       "38                                          Hawái\n",
       "39                                        Ride It\n",
       "40                                     goosebumps\n",
       "43                                        Safaera\n",
       "48                                       Physical\n",
       "49                                     SICKO MODE"
      ]
     },
     "execution_count": 20,
     "metadata": {},
     "output_type": "execute_result"
    }
   ],
   "source": [
    "loudness_filter = df.loudness > -5\n",
    "\n",
    "pd.DataFrame({'Loudness > -5': df.track_name[loudness_filter]})"
   ]
  },
  {
   "cell_type": "markdown",
   "id": "6df35fd0",
   "metadata": {},
   "source": [
    "Which **tracks** have their **loudness below -8**?"
   ]
  },
  {
   "cell_type": "code",
   "execution_count": 21,
   "id": "59ce02b6",
   "metadata": {},
   "outputs": [
    {
     "data": {
      "text/html": [
       "<div>\n",
       "<style scoped>\n",
       "    .dataframe tbody tr th:only-of-type {\n",
       "        vertical-align: middle;\n",
       "    }\n",
       "\n",
       "    .dataframe tbody tr th {\n",
       "        vertical-align: top;\n",
       "    }\n",
       "\n",
       "    .dataframe thead th {\n",
       "        text-align: right;\n",
       "    }\n",
       "</style>\n",
       "<table border=\"1\" class=\"dataframe\">\n",
       "  <thead>\n",
       "    <tr style=\"text-align: right;\">\n",
       "      <th></th>\n",
       "      <th>Loudness &lt; -8</th>\n",
       "    </tr>\n",
       "  </thead>\n",
       "  <tbody>\n",
       "    <tr>\n",
       "      <th>7</th>\n",
       "      <td>death bed (coffee for your head)</td>\n",
       "    </tr>\n",
       "    <tr>\n",
       "      <th>8</th>\n",
       "      <td>Falling</td>\n",
       "    </tr>\n",
       "    <tr>\n",
       "      <th>15</th>\n",
       "      <td>Toosie Slide</td>\n",
       "    </tr>\n",
       "    <tr>\n",
       "      <th>20</th>\n",
       "      <td>Savage Love (Laxed - Siren Beat)</td>\n",
       "    </tr>\n",
       "    <tr>\n",
       "      <th>24</th>\n",
       "      <td>everything i wanted</td>\n",
       "    </tr>\n",
       "    <tr>\n",
       "      <th>26</th>\n",
       "      <td>bad guy</td>\n",
       "    </tr>\n",
       "    <tr>\n",
       "      <th>36</th>\n",
       "      <td>HIGHEST IN THE ROOM</td>\n",
       "    </tr>\n",
       "    <tr>\n",
       "      <th>44</th>\n",
       "      <td>lovely (with Khalid)</td>\n",
       "    </tr>\n",
       "    <tr>\n",
       "      <th>47</th>\n",
       "      <td>If the World Was Ending - feat. Julia Michaels</td>\n",
       "    </tr>\n",
       "  </tbody>\n",
       "</table>\n",
       "</div>"
      ],
      "text/plain": [
       "                                     Loudness < -8\n",
       "7                 death bed (coffee for your head)\n",
       "8                                          Falling\n",
       "15                                    Toosie Slide\n",
       "20                Savage Love (Laxed - Siren Beat)\n",
       "24                             everything i wanted\n",
       "26                                         bad guy\n",
       "36                             HIGHEST IN THE ROOM\n",
       "44                            lovely (with Khalid)\n",
       "47  If the World Was Ending - feat. Julia Michaels"
      ]
     },
     "execution_count": 21,
     "metadata": {},
     "output_type": "execute_result"
    }
   ],
   "source": [
    "loudness_filter = df.loudness < -8\n",
    "\n",
    "pd.DataFrame({'Loudness < -8': df.track_name[loudness_filter]})"
   ]
  },
  {
   "cell_type": "markdown",
   "id": "961f8715",
   "metadata": {},
   "source": [
    "Which **track** is the **longest**?"
   ]
  },
  {
   "cell_type": "code",
   "execution_count": 22,
   "id": "6211d141",
   "metadata": {},
   "outputs": [
    {
     "name": "stdout",
     "output_type": "stream",
     "text": [
      "SICKO MODE by Travis Scott. Duration: 312820 ms\n"
     ]
    }
   ],
   "source": [
    "max_duration = df.duration_ms[df.duration_ms.idxmax()]\n",
    "\n",
    "print(f'{df.track_name[df.duration_ms.idxmax()]} by {df.artist[df.duration_ms.idxmax()]}. Duration: {max_duration} ms')"
   ]
  },
  {
   "cell_type": "markdown",
   "id": "91d9bb5a",
   "metadata": {},
   "source": [
    "Which **track** is the **shortest**?"
   ]
  },
  {
   "cell_type": "code",
   "execution_count": 23,
   "id": "5085d161",
   "metadata": {},
   "outputs": [
    {
     "name": "stdout",
     "output_type": "stream",
     "text": [
      "Mood (feat. iann dior) by 24kGoldn. Duration: 140526 ms\n"
     ]
    }
   ],
   "source": [
    "min_duration = df.duration_ms[df.duration_ms.idxmin()]\n",
    "\n",
    "print(f'{df.track_name[df.duration_ms.idxmin()]} by {df.artist[df.duration_ms.idxmin()]}. Duration: {min_duration} ms')"
   ]
  },
  {
   "cell_type": "markdown",
   "id": "a60240d0",
   "metadata": {},
   "source": [
    "Which **genre** is the **most popular**?"
   ]
  },
  {
   "cell_type": "code",
   "execution_count": 24,
   "id": "435ecf91",
   "metadata": {},
   "outputs": [
    {
     "name": "stdout",
     "output_type": "stream",
     "text": [
      "\"Pop\" genre is the most popular. There are 14 tracks of this genre in Top 50\n"
     ]
    }
   ],
   "source": [
    "print(f'\"{df.genre.value_counts().idxmax()}\" genre is the most popular. '\n",
    "      f'There are {df.genre.value_counts()[0]} tracks of this genre in Top 50')"
   ]
  },
  {
   "cell_type": "markdown",
   "id": "31647320",
   "metadata": {},
   "source": [
    "Which **genres** have just **one song** on the **Top 50**?"
   ]
  },
  {
   "cell_type": "code",
   "execution_count": 25,
   "id": "858a6982",
   "metadata": {
    "scrolled": false
   },
   "outputs": [
    {
     "data": {
      "text/plain": [
       "['Alternative/reggaeton/experimental',\n",
       " 'Chamber pop',\n",
       " 'Dance-pop/Disco',\n",
       " 'Disco-pop',\n",
       " 'Dreampop/Hip-Hop/R&B',\n",
       " 'Hip-Hop/Trap',\n",
       " 'Nu-disco',\n",
       " 'Pop rap',\n",
       " 'Pop/Soft Rock',\n",
       " 'R&B/Hip-Hop alternative']"
      ]
     },
     "execution_count": 25,
     "metadata": {},
     "output_type": "execute_result"
    }
   ],
   "source": [
    "genre_popularity = df.genre.value_counts() == 1\n",
    "genre_popularity[genre_popularity].index.to_list()"
   ]
  },
  {
   "cell_type": "markdown",
   "id": "f069547d",
   "metadata": {},
   "source": [
    "How many **genres in total** are represented in the top 50?"
   ]
  },
  {
   "cell_type": "code",
   "execution_count": 26,
   "id": "89f9afa6",
   "metadata": {},
   "outputs": [
    {
     "data": {
      "text/plain": [
       "16"
      ]
     },
     "execution_count": 26,
     "metadata": {},
     "output_type": "execute_result"
    }
   ],
   "source": [
    "df.genre.nunique()"
   ]
  },
  {
   "cell_type": "markdown",
   "id": "890827c8",
   "metadata": {},
   "source": [
    "### Exploratory Data Analysis (EDA)"
   ]
  },
  {
   "cell_type": "markdown",
   "id": "bcaa26fd",
   "metadata": {},
   "source": [
    "**Features correlation**\n",
    "\n",
    "With these correlations and a heatmap we may more clearly see a picture of relations between variables. The values below are calculated with **Pearson's method** which may be explained the following:<br />\n",
    "\n",
    "Correlation coefficient<br />\n",
    "**close to +1**: Large Positive relationship (when the increase of a value increases the other value)<br />\n",
    "**close to -1**: Large Negative relationship (when the increase of a value decreases the other value)<br />\n",
    "**close to 0**: No relationship<br />"
   ]
  },
  {
   "cell_type": "code",
   "execution_count": 27,
   "id": "2e8ddc50",
   "metadata": {
    "scrolled": true
   },
   "outputs": [
    {
     "data": {
      "text/html": [
       "<div>\n",
       "<style scoped>\n",
       "    .dataframe tbody tr th:only-of-type {\n",
       "        vertical-align: middle;\n",
       "    }\n",
       "\n",
       "    .dataframe tbody tr th {\n",
       "        vertical-align: top;\n",
       "    }\n",
       "\n",
       "    .dataframe thead th {\n",
       "        text-align: right;\n",
       "    }\n",
       "</style>\n",
       "<table border=\"1\" class=\"dataframe\">\n",
       "  <thead>\n",
       "    <tr style=\"text-align: right;\">\n",
       "      <th></th>\n",
       "      <th>energy</th>\n",
       "      <th>danceability</th>\n",
       "      <th>loudness</th>\n",
       "      <th>acousticness</th>\n",
       "      <th>speechiness</th>\n",
       "      <th>instrumentalness</th>\n",
       "      <th>liveness</th>\n",
       "      <th>valence</th>\n",
       "      <th>tempo</th>\n",
       "      <th>duration_ms</th>\n",
       "    </tr>\n",
       "  </thead>\n",
       "  <tbody>\n",
       "    <tr>\n",
       "      <th>energy</th>\n",
       "      <td>1.000000</td>\n",
       "      <td>0.152552</td>\n",
       "      <td>0.791640</td>\n",
       "      <td>-0.682479</td>\n",
       "      <td>0.074267</td>\n",
       "      <td>-0.385515</td>\n",
       "      <td>0.069487</td>\n",
       "      <td>0.393453</td>\n",
       "      <td>0.075191</td>\n",
       "      <td>0.081971</td>\n",
       "    </tr>\n",
       "    <tr>\n",
       "      <th>danceability</th>\n",
       "      <td>0.152552</td>\n",
       "      <td>1.000000</td>\n",
       "      <td>0.167147</td>\n",
       "      <td>-0.359135</td>\n",
       "      <td>0.226148</td>\n",
       "      <td>-0.017706</td>\n",
       "      <td>-0.006648</td>\n",
       "      <td>0.479953</td>\n",
       "      <td>0.168956</td>\n",
       "      <td>-0.033763</td>\n",
       "    </tr>\n",
       "    <tr>\n",
       "      <th>loudness</th>\n",
       "      <td>0.791640</td>\n",
       "      <td>0.167147</td>\n",
       "      <td>1.000000</td>\n",
       "      <td>-0.498695</td>\n",
       "      <td>-0.021693</td>\n",
       "      <td>-0.553735</td>\n",
       "      <td>-0.069939</td>\n",
       "      <td>0.406772</td>\n",
       "      <td>0.102097</td>\n",
       "      <td>0.064130</td>\n",
       "    </tr>\n",
       "    <tr>\n",
       "      <th>acousticness</th>\n",
       "      <td>-0.682479</td>\n",
       "      <td>-0.359135</td>\n",
       "      <td>-0.498695</td>\n",
       "      <td>1.000000</td>\n",
       "      <td>-0.135392</td>\n",
       "      <td>0.352184</td>\n",
       "      <td>-0.128384</td>\n",
       "      <td>-0.243192</td>\n",
       "      <td>-0.241119</td>\n",
       "      <td>-0.010988</td>\n",
       "    </tr>\n",
       "    <tr>\n",
       "      <th>speechiness</th>\n",
       "      <td>0.074267</td>\n",
       "      <td>0.226148</td>\n",
       "      <td>-0.021693</td>\n",
       "      <td>-0.135392</td>\n",
       "      <td>1.000000</td>\n",
       "      <td>0.028948</td>\n",
       "      <td>-0.142957</td>\n",
       "      <td>0.053867</td>\n",
       "      <td>0.215504</td>\n",
       "      <td>0.366976</td>\n",
       "    </tr>\n",
       "    <tr>\n",
       "      <th>instrumentalness</th>\n",
       "      <td>-0.385515</td>\n",
       "      <td>-0.017706</td>\n",
       "      <td>-0.553735</td>\n",
       "      <td>0.352184</td>\n",
       "      <td>0.028948</td>\n",
       "      <td>1.000000</td>\n",
       "      <td>-0.087034</td>\n",
       "      <td>-0.203283</td>\n",
       "      <td>0.018853</td>\n",
       "      <td>0.184709</td>\n",
       "    </tr>\n",
       "    <tr>\n",
       "      <th>liveness</th>\n",
       "      <td>0.069487</td>\n",
       "      <td>-0.006648</td>\n",
       "      <td>-0.069939</td>\n",
       "      <td>-0.128384</td>\n",
       "      <td>-0.142957</td>\n",
       "      <td>-0.087034</td>\n",
       "      <td>1.000000</td>\n",
       "      <td>-0.033366</td>\n",
       "      <td>0.025457</td>\n",
       "      <td>-0.090188</td>\n",
       "    </tr>\n",
       "    <tr>\n",
       "      <th>valence</th>\n",
       "      <td>0.393453</td>\n",
       "      <td>0.479953</td>\n",
       "      <td>0.406772</td>\n",
       "      <td>-0.243192</td>\n",
       "      <td>0.053867</td>\n",
       "      <td>-0.203283</td>\n",
       "      <td>-0.033366</td>\n",
       "      <td>1.000000</td>\n",
       "      <td>0.045089</td>\n",
       "      <td>-0.039794</td>\n",
       "    </tr>\n",
       "    <tr>\n",
       "      <th>tempo</th>\n",
       "      <td>0.075191</td>\n",
       "      <td>0.168956</td>\n",
       "      <td>0.102097</td>\n",
       "      <td>-0.241119</td>\n",
       "      <td>0.215504</td>\n",
       "      <td>0.018853</td>\n",
       "      <td>0.025457</td>\n",
       "      <td>0.045089</td>\n",
       "      <td>1.000000</td>\n",
       "      <td>0.130328</td>\n",
       "    </tr>\n",
       "    <tr>\n",
       "      <th>duration_ms</th>\n",
       "      <td>0.081971</td>\n",
       "      <td>-0.033763</td>\n",
       "      <td>0.064130</td>\n",
       "      <td>-0.010988</td>\n",
       "      <td>0.366976</td>\n",
       "      <td>0.184709</td>\n",
       "      <td>-0.090188</td>\n",
       "      <td>-0.039794</td>\n",
       "      <td>0.130328</td>\n",
       "      <td>1.000000</td>\n",
       "    </tr>\n",
       "  </tbody>\n",
       "</table>\n",
       "</div>"
      ],
      "text/plain": [
       "                    energy  danceability  loudness  acousticness  speechiness  \\\n",
       "energy            1.000000      0.152552  0.791640     -0.682479     0.074267   \n",
       "danceability      0.152552      1.000000  0.167147     -0.359135     0.226148   \n",
       "loudness          0.791640      0.167147  1.000000     -0.498695    -0.021693   \n",
       "acousticness     -0.682479     -0.359135 -0.498695      1.000000    -0.135392   \n",
       "speechiness       0.074267      0.226148 -0.021693     -0.135392     1.000000   \n",
       "instrumentalness -0.385515     -0.017706 -0.553735      0.352184     0.028948   \n",
       "liveness          0.069487     -0.006648 -0.069939     -0.128384    -0.142957   \n",
       "valence           0.393453      0.479953  0.406772     -0.243192     0.053867   \n",
       "tempo             0.075191      0.168956  0.102097     -0.241119     0.215504   \n",
       "duration_ms       0.081971     -0.033763  0.064130     -0.010988     0.366976   \n",
       "\n",
       "                  instrumentalness  liveness   valence     tempo  duration_ms  \n",
       "energy                   -0.385515  0.069487  0.393453  0.075191     0.081971  \n",
       "danceability             -0.017706 -0.006648  0.479953  0.168956    -0.033763  \n",
       "loudness                 -0.553735 -0.069939  0.406772  0.102097     0.064130  \n",
       "acousticness              0.352184 -0.128384 -0.243192 -0.241119    -0.010988  \n",
       "speechiness               0.028948 -0.142957  0.053867  0.215504     0.366976  \n",
       "instrumentalness          1.000000 -0.087034 -0.203283  0.018853     0.184709  \n",
       "liveness                 -0.087034  1.000000 -0.033366  0.025457    -0.090188  \n",
       "valence                  -0.203283 -0.033366  1.000000  0.045089    -0.039794  \n",
       "tempo                     0.018853  0.025457  0.045089  1.000000     0.130328  \n",
       "duration_ms               0.184709 -0.090188 -0.039794  0.130328     1.000000  "
      ]
     },
     "execution_count": 27,
     "metadata": {},
     "output_type": "execute_result"
    }
   ],
   "source": [
    "df.corr(method='pearson')"
   ]
  },
  {
   "cell_type": "code",
   "execution_count": 28,
   "id": "d07f8259",
   "metadata": {
    "scrolled": true
   },
   "outputs": [
    {
     "data": {
      "text/plain": [
       "<AxesSubplot:>"
      ]
     },
     "execution_count": 28,
     "metadata": {},
     "output_type": "execute_result"
    },
    {
     "data": {
      "image/png": "[encoded data removed]",
      "text/plain": [
       "<Figure size 864x576 with 2 Axes>"
      ]
     },
     "metadata": {
      "needs_background": "light"
     },
     "output_type": "display_data"
    }
   ],
   "source": [
    "plt.figure(figsize=(12,8))\n",
    "sns.heatmap(df.corr(method='pearson'), annot=True, cmap='Blues', vmin=-1, vmax=1)"
   ]
  },
  {
   "cell_type": "markdown",
   "id": "e2ab28f0",
   "metadata": {},
   "source": [
    "From the above heatmap we may see a rather strong positive relation `0.79` between `energy` and `loudness`, and vice versa relation `-0.68` between `energy` and `acousticness`. Both relations seems corresponds to the definition of Spotify's `energy` variable: **Energy** represents a perceptual measure of intensity and activity. Typically, energetic tracks feel fast, loud, and noisy.<br />"
   ]
  },
  {
   "cell_type": "code",
   "execution_count": 29,
   "id": "c36bfd48",
   "metadata": {},
   "outputs": [
    {
     "data": {
      "text/plain": [
       "[Text(0.5, 1.0, 'Energy vs Loudness')]"
      ]
     },
     "execution_count": 29,
     "metadata": {},
     "output_type": "execute_result"
    },
    {
     "data": {
      "image/png": "[encoded data removed]",
      "text/plain": [
       "<Figure size 432x288 with 1 Axes>"
      ]
     },
     "metadata": {
      "needs_background": "light"
     },
     "output_type": "display_data"
    }
   ],
   "source": [
    "sns.regplot(x='energy', y='loudness', data=df).set(title=\"Energy vs Loudness\")"
   ]
  },
  {
   "cell_type": "code",
   "execution_count": 30,
   "id": "0130e89d",
   "metadata": {},
   "outputs": [
    {
     "data": {
      "text/plain": [
       "[Text(0.5, 1.0, 'Energy vs Acousticness')]"
      ]
     },
     "execution_count": 30,
     "metadata": {},
     "output_type": "execute_result"
    },
    {
     "data": {
      "image/png": "[encoded data removed]",
      "text/plain": [
       "<Figure size 432x288 with 1 Axes>"
      ]
     },
     "metadata": {
      "needs_background": "light"
     },
     "output_type": "display_data"
    }
   ],
   "source": [
    "sns.regplot(x='energy', y='acousticness', data=df).set(title=\"Energy vs Acousticness\")"
   ]
  },
  {
   "cell_type": "markdown",
   "id": "fe08ff2b",
   "metadata": {},
   "source": [
    "Another worth mentioning positive relation of `0.48` is between `valence` and `danceability`. Again, according to Spotify's definition of `valence`, the higher the `valence` the more positive (e.g. happy, cheerful, euphoric) track is, while tracks with low `valence` sound more negative (e.g. sad, depressed, angry). Thus you may see why `danceability` (how suitable a track is for dancing) is positively related.<br />\n",
    "<br />"
   ]
  },
  {
   "cell_type": "code",
   "execution_count": 31,
   "id": "e5156cf8",
   "metadata": {},
   "outputs": [
    {
     "data": {
      "text/plain": [
       "[Text(0.5, 1.0, 'Valence vs Danceability')]"
      ]
     },
     "execution_count": 31,
     "metadata": {},
     "output_type": "execute_result"
    },
    {
     "data": {
      "image/png": "[encoded data removed]",
      "text/plain": [
       "<Figure size 432x288 with 1 Axes>"
      ]
     },
     "metadata": {
      "needs_background": "light"
     },
     "output_type": "display_data"
    }
   ],
   "source": [
    "sns.regplot(x='valence', y='danceability', data=df).set(title=\"Valence vs Danceability\")"
   ]
  },
  {
   "cell_type": "markdown",
   "id": "56c256a3",
   "metadata": {},
   "source": [
    "A typical **no relationship** example could be between `liveness` and `danceability`. A value of `0.0066` is very close to `0`, which proves general understanding that whether track is performed live or not it doesn't affect tracks' `danceability`."
   ]
  },
  {
   "cell_type": "code",
   "execution_count": 32,
   "id": "5901cf69",
   "metadata": {
    "scrolled": true
   },
   "outputs": [
    {
     "data": {
      "text/plain": [
       "[Text(0.5, 1.0, 'Danceability vs Liveness')]"
      ]
     },
     "execution_count": 32,
     "metadata": {},
     "output_type": "execute_result"
    },
    {
     "data": {
      "image/png": "[encoded data removed]",
      "text/plain": [
       "<Figure size 432x288 with 1 Axes>"
      ]
     },
     "metadata": {
      "needs_background": "light"
     },
     "output_type": "display_data"
    }
   ],
   "source": [
    "sns.regplot(x='danceability', y='liveness', data=df).set(title=\"Danceability vs Liveness\")"
   ]
  },
  {
   "cell_type": "markdown",
   "id": "6842c785",
   "metadata": {},
   "source": [
    "Standard deviation measures how far results spread from the average value, thus the lower the value, the closer object is, the more reliable result"
   ]
  },
  {
   "cell_type": "markdown",
   "id": "9ca0663a",
   "metadata": {},
   "source": [
    "How does the danceability score compare between Pop, Hip-Hop/Rap, Dance/Electronic, and Alternative/Indie genres? We see that `Hip-hop/Rap` and `Dance/Electronic` are twice as close than `Alternative/Indie`. Together with a `mean` value we can say which genre is more 'danceable'."
   ]
  },
  {
   "cell_type": "code",
   "execution_count": 33,
   "id": "8abf8f2b",
   "metadata": {},
   "outputs": [
    {
     "data": {
      "text/html": [
       "<div>\n",
       "<style scoped>\n",
       "    .dataframe tbody tr th:only-of-type {\n",
       "        vertical-align: middle;\n",
       "    }\n",
       "\n",
       "    .dataframe tbody tr th {\n",
       "        vertical-align: top;\n",
       "    }\n",
       "\n",
       "    .dataframe thead tr th {\n",
       "        text-align: left;\n",
       "    }\n",
       "\n",
       "    .dataframe thead tr:last-of-type th {\n",
       "        text-align: right;\n",
       "    }\n",
       "</style>\n",
       "<table border=\"1\" class=\"dataframe\">\n",
       "  <thead>\n",
       "    <tr>\n",
       "      <th></th>\n",
       "      <th>std</th>\n",
       "      <th>mean</th>\n",
       "    </tr>\n",
       "    <tr>\n",
       "      <th></th>\n",
       "      <th>danceability</th>\n",
       "      <th>danceability</th>\n",
       "    </tr>\n",
       "    <tr>\n",
       "      <th>genre</th>\n",
       "      <th></th>\n",
       "      <th></th>\n",
       "    </tr>\n",
       "  </thead>\n",
       "  <tbody>\n",
       "    <tr>\n",
       "      <th>Alternative/Indie</th>\n",
       "      <td>0.211107</td>\n",
       "      <td>0.661750</td>\n",
       "    </tr>\n",
       "    <tr>\n",
       "      <th>Pop</th>\n",
       "      <td>0.109853</td>\n",
       "      <td>0.677571</td>\n",
       "    </tr>\n",
       "    <tr>\n",
       "      <th>Dance/Electronic</th>\n",
       "      <td>0.094744</td>\n",
       "      <td>0.755000</td>\n",
       "    </tr>\n",
       "    <tr>\n",
       "      <th>Hip-Hop/Rap</th>\n",
       "      <td>0.085470</td>\n",
       "      <td>0.765538</td>\n",
       "    </tr>\n",
       "  </tbody>\n",
       "</table>\n",
       "</div>"
      ],
      "text/plain": [
       "                           std         mean\n",
       "                  danceability danceability\n",
       "genre                                      \n",
       "Alternative/Indie     0.211107     0.661750\n",
       "Pop                   0.109853     0.677571\n",
       "Dance/Electronic      0.094744     0.755000\n",
       "Hip-Hop/Rap           0.085470     0.765538"
      ]
     },
     "execution_count": 33,
     "metadata": {},
     "output_type": "execute_result"
    }
   ],
   "source": [
    "df_pivot = df.pivot_table(values='danceability', index='genre', aggfunc=[np.std, np.mean])\n",
    "df_pivot.loc[(['Pop', 'Hip-Hop/Rap', 'Dance/Electronic', 'Alternative/Indie'])].sort_values(('mean', 'danceability'))"
   ]
  },
  {
   "cell_type": "markdown",
   "id": "e31818bb",
   "metadata": {},
   "source": [
    "How does the loudness score compare between Pop, Hip-Hop/Rap, Dance/Electronic, and Alternative/Indie genres? The loudness for Pop genre tracks are much more spreaded, while `Alternative/Indie` loudness is more equal."
   ]
  },
  {
   "cell_type": "code",
   "execution_count": 34,
   "id": "8e23c719",
   "metadata": {},
   "outputs": [
    {
     "data": {
      "text/html": [
       "<div>\n",
       "<style scoped>\n",
       "    .dataframe tbody tr th:only-of-type {\n",
       "        vertical-align: middle;\n",
       "    }\n",
       "\n",
       "    .dataframe tbody tr th {\n",
       "        vertical-align: top;\n",
       "    }\n",
       "\n",
       "    .dataframe thead tr th {\n",
       "        text-align: left;\n",
       "    }\n",
       "\n",
       "    .dataframe thead tr:last-of-type th {\n",
       "        text-align: right;\n",
       "    }\n",
       "</style>\n",
       "<table border=\"1\" class=\"dataframe\">\n",
       "  <thead>\n",
       "    <tr>\n",
       "      <th></th>\n",
       "      <th>std</th>\n",
       "      <th>mean</th>\n",
       "    </tr>\n",
       "    <tr>\n",
       "      <th></th>\n",
       "      <th>loudness</th>\n",
       "      <th>loudness</th>\n",
       "    </tr>\n",
       "    <tr>\n",
       "      <th>genre</th>\n",
       "      <th></th>\n",
       "      <th></th>\n",
       "    </tr>\n",
       "  </thead>\n",
       "  <tbody>\n",
       "    <tr>\n",
       "      <th>Hip-Hop/Rap</th>\n",
       "      <td>1.891808</td>\n",
       "      <td>-6.917846</td>\n",
       "    </tr>\n",
       "    <tr>\n",
       "      <th>Pop</th>\n",
       "      <td>3.014281</td>\n",
       "      <td>-6.460357</td>\n",
       "    </tr>\n",
       "    <tr>\n",
       "      <th>Alternative/Indie</th>\n",
       "      <td>0.774502</td>\n",
       "      <td>-5.421000</td>\n",
       "    </tr>\n",
       "    <tr>\n",
       "      <th>Dance/Electronic</th>\n",
       "      <td>1.479047</td>\n",
       "      <td>-5.338000</td>\n",
       "    </tr>\n",
       "  </tbody>\n",
       "</table>\n",
       "</div>"
      ],
      "text/plain": [
       "                        std      mean\n",
       "                   loudness  loudness\n",
       "genre                                \n",
       "Hip-Hop/Rap        1.891808 -6.917846\n",
       "Pop                3.014281 -6.460357\n",
       "Alternative/Indie  0.774502 -5.421000\n",
       "Dance/Electronic   1.479047 -5.338000"
      ]
     },
     "execution_count": 34,
     "metadata": {},
     "output_type": "execute_result"
    }
   ],
   "source": [
    "df_pivot = df.pivot_table(values='loudness', index='genre', aggfunc=[np.std, np.mean])\n",
    "df_pivot.loc[(['Pop', 'Hip-Hop/Rap', 'Dance/Electronic', 'Alternative/Indie'])].sort_values(('mean', 'loudness'))"
   ]
  },
  {
   "cell_type": "markdown",
   "id": "bab5baf6",
   "metadata": {},
   "source": [
    "How does the acousticness score compare between Pop, Hip-Hop/Rap, Dance/Electronic, and Alternative/Indie genres? A clear indication that `Dance/Electronic` genre is realy far from `acousticness`."
   ]
  },
  {
   "cell_type": "code",
   "execution_count": 35,
   "id": "68c61d8e",
   "metadata": {},
   "outputs": [
    {
     "data": {
      "text/html": [
       "<div>\n",
       "<style scoped>\n",
       "    .dataframe tbody tr th:only-of-type {\n",
       "        vertical-align: middle;\n",
       "    }\n",
       "\n",
       "    .dataframe tbody tr th {\n",
       "        vertical-align: top;\n",
       "    }\n",
       "\n",
       "    .dataframe thead tr th {\n",
       "        text-align: left;\n",
       "    }\n",
       "\n",
       "    .dataframe thead tr:last-of-type th {\n",
       "        text-align: right;\n",
       "    }\n",
       "</style>\n",
       "<table border=\"1\" class=\"dataframe\">\n",
       "  <thead>\n",
       "    <tr>\n",
       "      <th></th>\n",
       "      <th>std</th>\n",
       "      <th>mean</th>\n",
       "    </tr>\n",
       "    <tr>\n",
       "      <th></th>\n",
       "      <th>acousticness</th>\n",
       "      <th>acousticness</th>\n",
       "    </tr>\n",
       "    <tr>\n",
       "      <th>genre</th>\n",
       "      <th></th>\n",
       "      <th></th>\n",
       "    </tr>\n",
       "  </thead>\n",
       "  <tbody>\n",
       "    <tr>\n",
       "      <th>Dance/Electronic</th>\n",
       "      <td>0.095828</td>\n",
       "      <td>0.099440</td>\n",
       "    </tr>\n",
       "    <tr>\n",
       "      <th>Hip-Hop/Rap</th>\n",
       "      <td>0.186396</td>\n",
       "      <td>0.188741</td>\n",
       "    </tr>\n",
       "    <tr>\n",
       "      <th>Pop</th>\n",
       "      <td>0.318142</td>\n",
       "      <td>0.323843</td>\n",
       "    </tr>\n",
       "    <tr>\n",
       "      <th>Alternative/Indie</th>\n",
       "      <td>0.204086</td>\n",
       "      <td>0.583500</td>\n",
       "    </tr>\n",
       "  </tbody>\n",
       "</table>\n",
       "</div>"
      ],
      "text/plain": [
       "                           std         mean\n",
       "                  acousticness acousticness\n",
       "genre                                      \n",
       "Dance/Electronic      0.095828     0.099440\n",
       "Hip-Hop/Rap           0.186396     0.188741\n",
       "Pop                   0.318142     0.323843\n",
       "Alternative/Indie     0.204086     0.583500"
      ]
     },
     "execution_count": 35,
     "metadata": {},
     "output_type": "execute_result"
    }
   ],
   "source": [
    "df_pivot = df.pivot_table(values='acousticness', index='genre', aggfunc=[np.std, np.mean])\n",
    "df_pivot.loc[(['Pop', 'Hip-Hop/Rap', 'Dance/Electronic', 'Alternative/Indie'])].sort_values(('mean', 'acousticness'))"
   ]
  },
  {
   "cell_type": "markdown",
   "id": "50c3e276",
   "metadata": {},
   "source": [
    "This dataset unfortunately doesn't include a `year of the track` feature which would allow to see how songs changed over the course of the years.<br />\n",
    "For more accurate results, especially feature compare by the genre, much more larger dataset is a must."
   ]
  }
 ],
 "metadata": {
  "kernelspec": {
   "display_name": "Python 3 (ipykernel)",
   "language": "python",
   "name": "python3"
  },
  "language_info": {
   "codemirror_mode": {
    "name": "ipython",
    "version": 3
   },
   "file_extension": ".py",
   "mimetype": "text/x-python",
   "name": "python",
   "nbconvert_exporter": "python",
   "pygments_lexer": "ipython3",
   "version": "3.10.0"
  }
 },
 "nbformat": 4,
 "nbformat_minor": 5
}
